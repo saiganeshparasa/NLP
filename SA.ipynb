{
  "nbformat": 4,
  "nbformat_minor": 0,
  "metadata": {
    "colab": {
      "name": "Untitled2.ipynb",
      "provenance": [],
      "collapsed_sections": [],
      "authorship_tag": "ABX9TyP27i0ziFRs8WSJgq3n6dev",
      "include_colab_link": true
    },
    "kernelspec": {
      "name": "python3",
      "display_name": "Python 3"
    },
    "language_info": {
      "name": "python"
    }
  },
  "cells": [
    {
      "cell_type": "markdown",
      "metadata": {
        "id": "view-in-github",
        "colab_type": "text"
      },
      "source": [
        "<a href=\"https://colab.research.google.com/github/saiganeshparasa/NLP/blob/main/SA.ipynb\" target=\"_parent\"><img src=\"https://colab.research.google.com/assets/colab-badge.svg\" alt=\"Open In Colab\"/></a>"
      ]
    },
    {
      "cell_type": "code",
      "metadata": {
        "colab": {
          "base_uri": "https://localhost:8080/"
        },
        "id": "TF6d80j_RjCi",
        "outputId": "c2724a4d-265a-4303-ea9b-be04eb2ceb74"
      },
      "source": [
        "!pip install transformers"
      ],
      "execution_count": 1,
      "outputs": [
        {
          "output_type": "stream",
          "text": [
            "Requirement already satisfied: transformers in /usr/local/lib/python3.7/dist-packages (4.8.2)\n",
            "Requirement already satisfied: tqdm>=4.27 in /usr/local/lib/python3.7/dist-packages (from transformers) (4.41.1)\n",
            "Requirement already satisfied: pyyaml in /usr/local/lib/python3.7/dist-packages (from transformers) (3.13)\n",
            "Requirement already satisfied: filelock in /usr/local/lib/python3.7/dist-packages (from transformers) (3.0.12)\n",
            "Requirement already satisfied: tokenizers<0.11,>=0.10.1 in /usr/local/lib/python3.7/dist-packages (from transformers) (0.10.3)\n",
            "Requirement already satisfied: importlib-metadata; python_version < \"3.8\" in /usr/local/lib/python3.7/dist-packages (from transformers) (4.5.0)\n",
            "Requirement already satisfied: sacremoses in /usr/local/lib/python3.7/dist-packages (from transformers) (0.0.45)\n",
            "Requirement already satisfied: huggingface-hub==0.0.12 in /usr/local/lib/python3.7/dist-packages (from transformers) (0.0.12)\n",
            "Requirement already satisfied: numpy>=1.17 in /usr/local/lib/python3.7/dist-packages (from transformers) (1.19.5)\n",
            "Requirement already satisfied: requests in /usr/local/lib/python3.7/dist-packages (from transformers) (2.23.0)\n",
            "Requirement already satisfied: packaging in /usr/local/lib/python3.7/dist-packages (from transformers) (20.9)\n",
            "Requirement already satisfied: regex!=2019.12.17 in /usr/local/lib/python3.7/dist-packages (from transformers) (2019.12.20)\n",
            "Requirement already satisfied: typing-extensions>=3.6.4; python_version < \"3.8\" in /usr/local/lib/python3.7/dist-packages (from importlib-metadata; python_version < \"3.8\"->transformers) (3.7.4.3)\n",
            "Requirement already satisfied: zipp>=0.5 in /usr/local/lib/python3.7/dist-packages (from importlib-metadata; python_version < \"3.8\"->transformers) (3.4.1)\n",
            "Requirement already satisfied: six in /usr/local/lib/python3.7/dist-packages (from sacremoses->transformers) (1.15.0)\n",
            "Requirement already satisfied: joblib in /usr/local/lib/python3.7/dist-packages (from sacremoses->transformers) (1.0.1)\n",
            "Requirement already satisfied: click in /usr/local/lib/python3.7/dist-packages (from sacremoses->transformers) (7.1.2)\n",
            "Requirement already satisfied: chardet<4,>=3.0.2 in /usr/local/lib/python3.7/dist-packages (from requests->transformers) (3.0.4)\n",
            "Requirement already satisfied: certifi>=2017.4.17 in /usr/local/lib/python3.7/dist-packages (from requests->transformers) (2021.5.30)\n",
            "Requirement already satisfied: idna<3,>=2.5 in /usr/local/lib/python3.7/dist-packages (from requests->transformers) (2.10)\n",
            "Requirement already satisfied: urllib3!=1.25.0,!=1.25.1,<1.26,>=1.21.1 in /usr/local/lib/python3.7/dist-packages (from requests->transformers) (1.24.3)\n",
            "Requirement already satisfied: pyparsing>=2.0.2 in /usr/local/lib/python3.7/dist-packages (from packaging->transformers) (2.4.7)\n"
          ],
          "name": "stdout"
        }
      ]
    },
    {
      "cell_type": "code",
      "metadata": {
        "id": "_cJtLfzcRq25"
      },
      "source": [
        "import numpy as np\n",
        "import pandas as pd\n",
        "from sklearn.model_selection import train_test_split\n",
        "from sklearn.linear_model import LogisticRegression\n",
        "from sklearn.model_selection import GridSearchCV\n",
        "from sklearn.model_selection import cross_val_score\n",
        "import torch\n",
        "import transformers as ppb\n",
        "import warnings\n",
        "warnings.filterwarnings('ignore')"
      ],
      "execution_count": 2,
      "outputs": []
    },
    {
      "cell_type": "code",
      "metadata": {
        "id": "o7QxlafDSKOx"
      },
      "source": [
        "import pandas as pd\n",
        "import datetime\n",
        "file = eval(open(\"output-LG-allratings1.txt\", 'r',encoding=\"utf8\").read())"
      ],
      "execution_count": 3,
      "outputs": []
    },
    {
      "cell_type": "code",
      "metadata": {
        "id": "vUbDz-8jTfbf"
      },
      "source": [
        "df = pd.DataFrame(file)"
      ],
      "execution_count": 4,
      "outputs": []
    },
    {
      "cell_type": "code",
      "metadata": {
        "colab": {
          "base_uri": "https://localhost:8080/"
        },
        "id": "TYRTosSbTf88",
        "outputId": "140ba0b8-c3ff-4315-bd64-62e48bcf7858"
      },
      "source": [
        "df.value_counts()"
      ],
      "execution_count": 5,
      "outputs": [
        {
          "output_type": "execute_result",
          "data": {
            "text/plain": [
              "reviewId                                                                                   userName           userImage                                                                                                                content                                                                                                                                                                                                                                                                                                                                                                                                                                                                               score  thumbsUpCount  reviewCreatedVersion  at                   replyContent                                                                                                                                                                                                                                                                                                        repliedAt          \n",
              "gp:AOqpTOHzzF6fNrsOuxXVAPoW72tbzDYIr7RXpk5Z7IDCKnpNd8jn7GwwBo2yP4zOSfll_dKQmTAqb2yr115pMg  royer hans         https://play-lh.googleusercontent.com/-3vXeJ0FtZxo/AAAAAAAAAAI/AAAAAAAAAAA/AMZuucnbx_Pk5aUicwAfC9Z8Kg8W3-0m0Q/photo.jpg  it can see and control the dehumidifier, great. but it will switch on wifi and bluetooth on my samsung s20 ultra while i am using gprs. tried to contact hk lg technical support, just got a reply \"did u try another phone\". pls fix this in the next update. oh need to go app information to switch off wifi and bluetooth auto on.                                                                                                                                                4      0              3.0.2010001           2020-04-16 20:51:30  We would be happy to help! Please try to delete and re-install the app.  If the issue persists, please send us an email with your model, OS version, and Software version to smart.thinq@lge.com & we will work to identify the issue. ^ST                                                                          2020-04-15 06:28:43    1\n",
              "gp:AOqpTOFMyp34n2CAWvwtXD-LIwCqtWzOig7xRpSpKrzTBtRyqxbQbB89pCYxXsQ1qyA_5yifAZv6wBUGoYbgYQ  Joel Beyersdorf    https://play-lh.googleusercontent.com/-5XP7bzP9C9Q/AAAAAAAAAAI/AAAAAAAAAAA/AMZuuclyJCBmuenY-D5UtweUZvAwsURpfg/photo.jpg  Washer app works good but, having connection issues with dryer, wish it was easier to get energy mode to stay off dryer, clothes dry inconsistently in normal mode                                                                                                                                                                                                                                                                                                                    3      0              3.0.1900000           2020-03-22 21:31:11  We hate to see you are having a difficult time connecting your product. For troubleshooting connection issues, please visit  https://bit.ly/2TqKrol  If this does not resolve the connection issue, please reach out to us at smart.thinq@lge.com ^ST                                                               2020-03-26 23:19:05    1\n",
              "gp:AOqpTOFM1hz3QSb1yc-U7JPaX5cgcHxr_fCoepyzQo9dBg0DifJ5Qq20LNxqZ0K6llmLLzK8bkYhI7wrB-wRpw  Rajkumar meena     https://play-lh.googleusercontent.com/a-/AOh14GiRKgVtzPGuJQTpdJMhKabATp27uWIoYNKvC3F4                                    Very bad app no singup very slow and lazy app                                                                                                                                                                                                                                                                                                                                                                                                                                         1      0              3.0.2301000           2020-06-17 14:09:19  Hey, thanks for writing a review. Sometimes, the app may be slow but such instances are rare. If it happens too often, please let us know at smart.thinq@lge.com. We'll have things investigated.^ST                                                                                                                2020-06-19 03:51:11    1\n",
              "gp:AOqpTOFM3Y-fKmMbMZEc4UnLj-aNoFf358tIKxbgnsDmu126m7chYAnt5WaVC83HQnc4O8kneH_XcysNnz2MLA  C Con              https://play-lh.googleusercontent.com/-eKTbHP2sKks/AAAAAAAAAAI/AAAAAAAAAAA/AMZuuclaqIN6lZAcGnis0QhHhgQ7nHVk7w/photo.jpg  Cannot download a cycle. Remote start works. End of load notification works. The app is worthless and useless.                                                                                                                                                                                                                                                                                                                                                                        1      0              1.9.28                2018-01-25 05:33:18  Dear.C Con\\nI'm sorry for the trouble.\\nYou can't not download any course? \\nI want to help you.\\nActually there is a menu for download.\\nPls let me know what your problem is.\\nsmart.thinq@lge.com\\nThanks                                                                                                        2017-02-15 13:27:15    1\n",
              "gp:AOqpTOFM4zGj4IPfIyHCtpt5IRvhctis3eQWVLgA2DeuuztEduIoQi_5-LUp15lSGMvXgrHdeLAY0w56TH0h8A  Prachi Hatkar      https://play-lh.googleusercontent.com/a-/AOh14GiNLCQbNO-7C05dQD6qzsg7DaHZo2aloy27nEHOA_4                                 Worst app ever. Testing my patience. My LG fridge Arrived on Sunday and is not working properly. The demo person knew nothing about the fridge. The app is not helping me lodge any query. Worst experience ever.                                                                                                                                                                                                                                                                     1      1              3.5.1047              2020-10-21 23:36:22  We apologize for the inconvenience. Smart diagnosis may also be performed over the phone by contacting customer service at 800-243-0000 if you are experiencing difficulty using this feature within the app. Our customer support team is also available via Twitter @LGUSSupport or Facebook.com/LGUSSupport ^LG  2020-11-05 00:42:23    1\n",
              "                                                                                                                                                                                                                                                                                                                                                                                                                                                                                                                                                                                                                                                                                                                                                                                                                                                                                                                                                                                                                                                                                                                                        ..\n",
              "gp:AOqpTOGeTm-7aCVTZbXMPJBIhjgDqc5HDYTQRYsf2RF1G5kJWnmtAdnhCFCDE8_nh5w-puBXmFxcDvMF9rAYRw  Ennigma Co         https://play-lh.googleusercontent.com/-taJ5UNbLEX0/AAAAAAAAAAI/AAAAAAAAAAA/AMZuucnQCJm-GNtbxEmdV3cnwqF-5CuA4Q/photo.jpg  App runs well, although there are some improvements I would want to have for my LG F4WV510S0 washing machine: 1. Why there is no option to control the washing machine remotely if the ChildLock is ON? 2. I would want to see the load weight, used wather and electricity in kw of the previous cicles.                                                                                                                                                                             3      0              3.5.1047              2020-10-03 19:55:41  With every new app version, we are introducing new features and improving existing ones. We are sure that your feedback will only help us improve further. ^LG                                                                                                                                                      2020-11-04 23:03:25    1\n",
              "gp:AOqpTOGeU9xqqlyEshocm3zauZQ4Dw4tO4P9S4mqNUiJPIAQC7YFTfd7jYZFiGCZmoWwgeA7oGmjXX5pjUwhBA  Tyler Roeckl       https://play-lh.googleusercontent.com/-aLZpb_XS_TI/AAAAAAAAAAI/AAAAAAAAAAA/AMZuuckzmLsm5fbCRk37W2wHypYQYB4eKA/photo.jpg  Missing features provided on the unit even the remote provided does more than this..                                                                                                                                                                                                                                                                                                                                                                                                  1      0              3.5.1045              2020-10-02 04:36:16  Hello! Thank you for rating us. Please share your ideas on how we can make the app better at smart.thinq@lge.com. Thank you. ^LG                                                                                                                                                                                    2020-11-04 23:01:04    1\n",
              "gp:AOqpTOGeZjEY2eXvJ1VERh8TVkxdmf1UXyJNr7HvFeWNW65uvlju2ebKN3rkfYtlxqLyjAxL6VGHTxrr3FovKQ  Amanda Fancher     https://play-lh.googleusercontent.com/-m47tbPMgtO4/AAAAAAAAAAI/AAAAAAAAAAA/AMZuucmXLemN4LCOVRykWdTYxBormGahmA/photo.jpg  This is a good app. It works well, but you can customize how you want you laundry washed. You can only pick from the factory settings and can't change things like water temp, extra rinse, etc                                                                                                                                                                                                                                                                                       2      0              3.0.1700001           2020-01-06 03:36:13  Thank you very much for this suggestion regarding the ability to customize cycles. Your feedback is greatly appreciated. Our app developers are working to provide a better customer experience. ^ST                                                                                                                2020-01-24 03:30:54    1\n",
              "gp:AOqpTOGe_eMg88G-R6h3Bl48zf4tYTVAFWAI0awMgB9iJsLlIwgKzZI2Uc0pxnxWjko94WzaU6u_CV2bQNu3XA  Marco Inc          https://play-lh.googleusercontent.com/-4kTQeXWR5EM/AAAAAAAAAAI/AAAAAAAAFQ0/AMZuuckCPFL4cWFAwN7wQAG9ZOuE08e5vQ/photo.jpg  I always get think is running icons stuck in notification area. Please add mac id and ip details in app for appliances. Apps okay for the most part. Issues I have are whenever they update their terms or pp they force you to accept them before you can reuse the app. There needs to be an option that still allows the app to work while selecting later to accept the new terms. The last upgrade caused new terms etc to come up, so the app closes if you don't accept them.  3      5              3.5.1202              2020-11-26 22:23:10  We are really sorry for the trouble and we appreciate you bringing this issue to our attention. We will look into this further! ^ST                                                                                                                                                                                 2020-09-22 21:50:20    1\n",
              "gp:AOqpTOE-26SqA8YMn2PNsYSQr8AScmw3dFmeqHTQofVJqkuxa-GZUtYUacBMyt0lzwltoe07DxSitFqyGcGq3A  aswathy venugopal  https://play-lh.googleusercontent.com/a-/AOh14Gj0Q_JbUMzllxTl7d881Ec7T6pcWy8JyOBcsqwi3A                                  Gives the following error on my device \"The crosswalk project service must be updated\"                                                                                                                                                                                                                                                                                                                                                                                                1      0              1.9.11                2017-06-24 13:19:14  Dear.aswathy \\nI'm sorry for the trouble.\\nAnd I want to really help you.\\nSo I need more information about your problem.\\nCould you let me know more details?\\nex. your action step by step, the screenshot of your phone when you faced problem.\\nPls send me email. smart.thinq@lge.com                          2017-06-28 10:13:29    1\n",
              "Length: 6212, dtype: int64"
            ]
          },
          "metadata": {
            "tags": []
          },
          "execution_count": 5
        }
      ]
    },
    {
      "cell_type": "code",
      "metadata": {
        "colab": {
          "base_uri": "https://localhost:8080/"
        },
        "id": "fFXK-1URTf_3",
        "outputId": "e7698545-4f99-4fb2-f211-f65988bc8ca8"
      },
      "source": [
        "\n",
        "model_class, tokenizer_class, pretrained_weights = (ppb.DistilBertModel, ppb.DistilBertTokenizer, 'distilbert-base-uncased')\n",
        "\n",
        "tokenizer = tokenizer_class.from_pretrained(pretrained_weights)\n",
        "model = model_class.from_pretrained(pretrained_weights)"
      ],
      "execution_count": 6,
      "outputs": [
        {
          "output_type": "stream",
          "text": [
            "Some weights of the model checkpoint at distilbert-base-uncased were not used when initializing DistilBertModel: ['vocab_layer_norm.bias', 'vocab_projector.bias', 'vocab_transform.bias', 'vocab_projector.weight', 'vocab_transform.weight', 'vocab_layer_norm.weight']\n",
            "- This IS expected if you are initializing DistilBertModel from the checkpoint of a model trained on another task or with another architecture (e.g. initializing a BertForSequenceClassification model from a BertForPreTraining model).\n",
            "- This IS NOT expected if you are initializing DistilBertModel from the checkpoint of a model that you expect to be exactly identical (initializing a BertForSequenceClassification model from a BertForSequenceClassification model).\n"
          ],
          "name": "stderr"
        }
      ]
    },
    {
      "cell_type": "markdown",
      "metadata": {
        "id": "fXY0yVGFU8iB"
      },
      "source": [
        ""
      ]
    },
    {
      "cell_type": "code",
      "metadata": {
        "id": "3_21VrVGXOUu"
      },
      "source": [
        "label= []"
      ],
      "execution_count": 7,
      "outputs": []
    },
    {
      "cell_type": "code",
      "metadata": {
        "id": "yx-p8eDnYI3S"
      },
      "source": [
        "for row in df['score']:\n",
        "        if row < 2.0 :    label.append('0')\n",
        "        elif row > 3.0: label.append('1')\n",
        "\n",
        "        \n",
        "        else:           label.append('2')"
      ],
      "execution_count": 8,
      "outputs": []
    },
    {
      "cell_type": "code",
      "metadata": {
        "id": "ZzQ4MOuQaweu"
      },
      "source": [
        "df['label'] = label"
      ],
      "execution_count": 9,
      "outputs": []
    },
    {
      "cell_type": "code",
      "metadata": {
        "colab": {
          "base_uri": "https://localhost:8080/"
        },
        "id": "tklLYuEbc7Zz",
        "outputId": "b0772de0-38bb-46bd-b661-29106db85944"
      },
      "source": [
        "df['label'].value_counts()"
      ],
      "execution_count": 10,
      "outputs": [
        {
          "output_type": "execute_result",
          "data": {
            "text/plain": [
              "1    8347\n",
              "0    6737\n",
              "2    2540\n",
              "Name: label, dtype: int64"
            ]
          },
          "metadata": {
            "tags": []
          },
          "execution_count": 10
        }
      ]
    },
    {
      "cell_type": "code",
      "metadata": {
        "id": "SDb3jPZpqQMJ"
      },
      "source": [
        "pos = df[df['label'] == 1]"
      ],
      "execution_count": 11,
      "outputs": []
    },
    {
      "cell_type": "code",
      "metadata": {
        "id": "24NNgYv8dLNe"
      },
      "source": [
        "batch_1 = df"
      ],
      "execution_count": 12,
      "outputs": []
    },
    {
      "cell_type": "code",
      "metadata": {
        "colab": {
          "base_uri": "https://localhost:8080/"
        },
        "id": "FxXxGrODddGv",
        "outputId": "17223357-6e41-43a9-ab4c-487372692628"
      },
      "source": [
        "tokenized = df['content'].apply((lambda x: tokenizer.encode(x, add_special_tokens=True)))"
      ],
      "execution_count": 13,
      "outputs": [
        {
          "output_type": "stream",
          "text": [
            "Token indices sequence length is longer than the specified maximum sequence length for this model (562 > 512). Running this sequence through the model will result in indexing errors\n"
          ],
          "name": "stderr"
        }
      ]
    },
    {
      "cell_type": "code",
      "metadata": {
        "id": "uDcKhTavdl3b"
      },
      "source": [
        "max_len = 512\n",
        "for i in tokenized.values:\n",
        "    if len(i) > max_len:\n",
        "        max_len = len(i)\n",
        "padded = np.array([i + [0]*(max_len-len(i)) for i in tokenized.values])"
      ],
      "execution_count": 14,
      "outputs": []
    },
    {
      "cell_type": "code",
      "metadata": {
        "colab": {
          "base_uri": "https://localhost:8080/"
        },
        "id": "_iymYiGCdzl4",
        "outputId": "ce372f48-4a61-4e9b-cd9e-7c2a5c05007a"
      },
      "source": [
        "np.array(padded).shape"
      ],
      "execution_count": 15,
      "outputs": [
        {
          "output_type": "execute_result",
          "data": {
            "text/plain": [
              "(17624, 562)"
            ]
          },
          "metadata": {
            "tags": []
          },
          "execution_count": 15
        }
      ]
    },
    {
      "cell_type": "code",
      "metadata": {
        "colab": {
          "base_uri": "https://localhost:8080/"
        },
        "id": "ef9NSg6vdmdI",
        "outputId": "9130ca43-f458-4e27-da59-eec80dad2dcd"
      },
      "source": [
        "attention_mask = np.where(padded != 0, 1, 0)\n",
        "attention_mask.shape"
      ],
      "execution_count": 16,
      "outputs": [
        {
          "output_type": "execute_result",
          "data": {
            "text/plain": [
              "(17624, 562)"
            ]
          },
          "metadata": {
            "tags": []
          },
          "execution_count": 16
        }
      ]
    },
    {
      "cell_type": "code",
      "metadata": {
        "id": "HxBiTq8KeMxV"
      },
      "source": [
        "input_ids = torch.tensor(padded)  \n",
        "attention_mask = torch.tensor(attention_mask)\n",
        "\n",
        "with torch.no_grad():\n",
        "    last_hidden_states = model(input_ids, attention_mask=attention_mask)"
      ],
      "execution_count": null,
      "outputs": []
    },
    {
      "cell_type": "code",
      "metadata": {
        "id": "k0CYb1ARecTg"
      },
      "source": [
        "features = last_hidden_states[0][:,0,:].numpy()"
      ],
      "execution_count": 26,
      "outputs": []
    },
    {
      "cell_type": "code",
      "metadata": {
        "colab": {
          "base_uri": "https://localhost:8080/",
          "height": 306
        },
        "id": "u6hy2zare7PD",
        "outputId": "1613d489-840c-4f1f-bb18-3b5c11e9ff42"
      },
      "source": [
        "train_features, test_features, train_labels, test_labels = train_test_split(features, labels)"
      ],
      "execution_count": 43,
      "outputs": [
        {
          "output_type": "error",
          "ename": "ValueError",
          "evalue": "ignored",
          "traceback": [
            "\u001b[0;31m---------------------------------------------------------------------------\u001b[0m",
            "\u001b[0;31mValueError\u001b[0m                                Traceback (most recent call last)",
            "\u001b[0;32m<ipython-input-43-98388d19c170>\u001b[0m in \u001b[0;36m<module>\u001b[0;34m()\u001b[0m\n\u001b[0;32m----> 1\u001b[0;31m \u001b[0mtrain_features\u001b[0m\u001b[0;34m,\u001b[0m \u001b[0mtest_features\u001b[0m\u001b[0;34m,\u001b[0m \u001b[0mtrain_labels\u001b[0m\u001b[0;34m,\u001b[0m \u001b[0mtest_labels\u001b[0m \u001b[0;34m=\u001b[0m \u001b[0mtrain_test_split\u001b[0m\u001b[0;34m(\u001b[0m\u001b[0mfeatures\u001b[0m\u001b[0;34m,\u001b[0m \u001b[0mlabels\u001b[0m\u001b[0;34m)\u001b[0m\u001b[0;34m\u001b[0m\u001b[0;34m\u001b[0m\u001b[0m\n\u001b[0m",
            "\u001b[0;32m/usr/local/lib/python3.7/dist-packages/sklearn/model_selection/_split.py\u001b[0m in \u001b[0;36mtrain_test_split\u001b[0;34m(*arrays, **options)\u001b[0m\n\u001b[1;32m   2116\u001b[0m         \u001b[0;32mraise\u001b[0m \u001b[0mTypeError\u001b[0m\u001b[0;34m(\u001b[0m\u001b[0;34m\"Invalid parameters passed: %s\"\u001b[0m \u001b[0;34m%\u001b[0m \u001b[0mstr\u001b[0m\u001b[0;34m(\u001b[0m\u001b[0moptions\u001b[0m\u001b[0;34m)\u001b[0m\u001b[0;34m)\u001b[0m\u001b[0;34m\u001b[0m\u001b[0;34m\u001b[0m\u001b[0m\n\u001b[1;32m   2117\u001b[0m \u001b[0;34m\u001b[0m\u001b[0m\n\u001b[0;32m-> 2118\u001b[0;31m     \u001b[0marrays\u001b[0m \u001b[0;34m=\u001b[0m \u001b[0mindexable\u001b[0m\u001b[0;34m(\u001b[0m\u001b[0;34m*\u001b[0m\u001b[0marrays\u001b[0m\u001b[0;34m)\u001b[0m\u001b[0;34m\u001b[0m\u001b[0;34m\u001b[0m\u001b[0m\n\u001b[0m\u001b[1;32m   2119\u001b[0m \u001b[0;34m\u001b[0m\u001b[0m\n\u001b[1;32m   2120\u001b[0m     \u001b[0mn_samples\u001b[0m \u001b[0;34m=\u001b[0m \u001b[0m_num_samples\u001b[0m\u001b[0;34m(\u001b[0m\u001b[0marrays\u001b[0m\u001b[0;34m[\u001b[0m\u001b[0;36m0\u001b[0m\u001b[0;34m]\u001b[0m\u001b[0;34m)\u001b[0m\u001b[0;34m\u001b[0m\u001b[0;34m\u001b[0m\u001b[0m\n",
            "\u001b[0;32m/usr/local/lib/python3.7/dist-packages/sklearn/utils/validation.py\u001b[0m in \u001b[0;36mindexable\u001b[0;34m(*iterables)\u001b[0m\n\u001b[1;32m    246\u001b[0m     \"\"\"\n\u001b[1;32m    247\u001b[0m     \u001b[0mresult\u001b[0m \u001b[0;34m=\u001b[0m \u001b[0;34m[\u001b[0m\u001b[0m_make_indexable\u001b[0m\u001b[0;34m(\u001b[0m\u001b[0mX\u001b[0m\u001b[0;34m)\u001b[0m \u001b[0;32mfor\u001b[0m \u001b[0mX\u001b[0m \u001b[0;32min\u001b[0m \u001b[0miterables\u001b[0m\u001b[0;34m]\u001b[0m\u001b[0;34m\u001b[0m\u001b[0;34m\u001b[0m\u001b[0m\n\u001b[0;32m--> 248\u001b[0;31m     \u001b[0mcheck_consistent_length\u001b[0m\u001b[0;34m(\u001b[0m\u001b[0;34m*\u001b[0m\u001b[0mresult\u001b[0m\u001b[0;34m)\u001b[0m\u001b[0;34m\u001b[0m\u001b[0;34m\u001b[0m\u001b[0m\n\u001b[0m\u001b[1;32m    249\u001b[0m     \u001b[0;32mreturn\u001b[0m \u001b[0mresult\u001b[0m\u001b[0;34m\u001b[0m\u001b[0;34m\u001b[0m\u001b[0m\n\u001b[1;32m    250\u001b[0m \u001b[0;34m\u001b[0m\u001b[0m\n",
            "\u001b[0;32m/usr/local/lib/python3.7/dist-packages/sklearn/utils/validation.py\u001b[0m in \u001b[0;36mcheck_consistent_length\u001b[0;34m(*arrays)\u001b[0m\n\u001b[1;32m    210\u001b[0m     \u001b[0;32mif\u001b[0m \u001b[0mlen\u001b[0m\u001b[0;34m(\u001b[0m\u001b[0muniques\u001b[0m\u001b[0;34m)\u001b[0m \u001b[0;34m>\u001b[0m \u001b[0;36m1\u001b[0m\u001b[0;34m:\u001b[0m\u001b[0;34m\u001b[0m\u001b[0;34m\u001b[0m\u001b[0m\n\u001b[1;32m    211\u001b[0m         raise ValueError(\"Found input variables with inconsistent numbers of\"\n\u001b[0;32m--> 212\u001b[0;31m                          \" samples: %r\" % [int(l) for l in lengths])\n\u001b[0m\u001b[1;32m    213\u001b[0m \u001b[0;34m\u001b[0m\u001b[0m\n\u001b[1;32m    214\u001b[0m \u001b[0;34m\u001b[0m\u001b[0m\n",
            "\u001b[0;31mValueError\u001b[0m: Found input variables with inconsistent numbers of samples: [512, 17624]"
          ]
        }
      ]
    },
    {
      "cell_type": "code",
      "metadata": {
        "colab": {
          "base_uri": "https://localhost:8080/"
        },
        "id": "4nyyb8tDplpv",
        "outputId": "494ff11f-b82b-4950-fd19-5e41037ed1fc"
      },
      "source": [
        "for col in df.columns:\n",
        "    print(col)"
      ],
      "execution_count": 33,
      "outputs": [
        {
          "output_type": "stream",
          "text": [
            "reviewId\n",
            "userName\n",
            "userImage\n",
            "content\n",
            "score\n",
            "thumbsUpCount\n",
            "reviewCreatedVersion\n",
            "at\n",
            "replyContent\n",
            "repliedAt\n",
            "label\n"
          ],
          "name": "stdout"
        }
      ]
    },
    {
      "cell_type": "code",
      "metadata": {
        "id": "bCdayOdpe7cy"
      },
      "source": [
        "labels=df['label']"
      ],
      "execution_count": 42,
      "outputs": []
    },
    {
      "cell_type": "code",
      "metadata": {
        "colab": {
          "base_uri": "https://localhost:8080/",
          "height": 180
        },
        "id": "ibTFR3tee7qX",
        "outputId": "9ca2742c-ccdd-4c73-e1b6-ea8b640feb07"
      },
      "source": [
        "lr_clf = LogisticRegression()\n",
        "lr_clf.fit(train_features, train_labels)"
      ],
      "execution_count": 41,
      "outputs": [
        {
          "output_type": "error",
          "ename": "NameError",
          "evalue": "ignored",
          "traceback": [
            "\u001b[0;31m---------------------------------------------------------------------------\u001b[0m",
            "\u001b[0;31mNameError\u001b[0m                                 Traceback (most recent call last)",
            "\u001b[0;32m<ipython-input-41-72f1b09d4593>\u001b[0m in \u001b[0;36m<module>\u001b[0;34m()\u001b[0m\n\u001b[1;32m      1\u001b[0m \u001b[0mlr_clf\u001b[0m \u001b[0;34m=\u001b[0m \u001b[0mLogisticRegression\u001b[0m\u001b[0;34m(\u001b[0m\u001b[0;34m)\u001b[0m\u001b[0;34m\u001b[0m\u001b[0;34m\u001b[0m\u001b[0m\n\u001b[0;32m----> 2\u001b[0;31m \u001b[0mlr_clf\u001b[0m\u001b[0;34m.\u001b[0m\u001b[0mfit\u001b[0m\u001b[0;34m(\u001b[0m\u001b[0mtrain_features\u001b[0m\u001b[0;34m,\u001b[0m \u001b[0mtrain_labels\u001b[0m\u001b[0;34m)\u001b[0m\u001b[0;34m\u001b[0m\u001b[0;34m\u001b[0m\u001b[0m\n\u001b[0m",
            "\u001b[0;31mNameError\u001b[0m: name 'train_features' is not defined"
          ]
        }
      ]
    },
    {
      "cell_type": "code",
      "metadata": {
        "id": "31QCDRiytgC2"
      },
      "source": [
        "lr_clf.score(test_features, test_labels)"
      ],
      "execution_count": null,
      "outputs": []
    },
    {
      "cell_type": "code",
      "metadata": {
        "id": "-MmWZUp2tloQ"
      },
      "source": [
        "from sklearn.dummy import DummyClassifier\n",
        "clf = DummyClassifier()\n",
        "\n",
        "scores = cross_val_score(clf, train_features, train_labels)\n",
        "print(\"Dummy classifier score: %0.3f (+/- %0.2f)\" % (scores.mean(), scores.std() * 2))"
      ],
      "execution_count": null,
      "outputs": []
    }
  ]
}